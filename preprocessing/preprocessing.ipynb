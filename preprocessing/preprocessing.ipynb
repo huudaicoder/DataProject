{
 "cells": [
  {
   "cell_type": "code",
   "execution_count": 15,
   "metadata": {},
   "outputs": [],
   "source": [
    "from pyvi import ViTokenizer, ViPosTagger\n",
    "from tqdm import tqdm\n",
    "import numpy as np\n",
    "import gensim"
   ]
  },
  {
   "cell_type": "code",
   "execution_count": 16,
   "metadata": {},
   "outputs": [],
   "source": [
    "import os \n",
    "dir_path = os.path.dirname(os.path.realpath(os.getcwd()))\n",
    "\n",
    "def get_data(folder_path):\n",
    "    X = []\n",
    "    y = []\n",
    "    dirs = os.listdir(folder_path)\n",
    "    for path in tqdm(dirs):\n",
    "        file_paths = os.listdir(os.path.join(folder_path, path))\n",
    "        for file_path in tqdm(file_paths):\n",
    "            with open(os.path.join(folder_path, path, file_path), 'r', encoding=\"utf-8\") as f:\n",
    "                lines = f.readlines()\n",
    "                lines = ' '.join(lines)\n",
    "                lines = gensim.utils.simple_preprocess(lines)\n",
    "                lines = ' '.join(lines)\n",
    "                lines = ViTokenizer.tokenize(lines)\n",
    "\n",
    "                X.append(lines)\n",
    "                y.append(path)\n",
    "\n",
    "    return X, y\n",
    "\n",
    "train_path = os.path.join(dir_path, 'dataset/Dataset-Group-4_Vietnamese-News-Classification')\n"
   ]
  },
  {
   "cell_type": "code",
   "execution_count": 17,
   "metadata": {},
   "outputs": [
    {
     "name": "stderr",
     "output_type": "stream",
     "text": [
      "100%|██████████| 616/616 [00:05<00:00, 116.29it/s]\n",
      "100%|██████████| 620/620 [00:05<00:00, 123.97it/s]\n",
      "100%|██████████| 644/644 [00:06<00:00, 93.83it/s]\n",
      "100%|██████████| 590/590 [00:05<00:00, 103.79it/s]\n",
      "100%|██████████| 610/610 [00:05<00:00, 114.71it/s]\n",
      "100%|██████████| 614/614 [00:04<00:00, 124.31it/s]\n",
      "100%|██████████| 660/660 [00:05<00:00, 125.49it/s]\n",
      "100%|██████████| 602/602 [00:07<00:00, 83.14it/s]\n",
      "100%|██████████| 604/604 [00:05<00:00, 108.80it/s]\n",
      "100%|██████████| 590/590 [00:04<00:00, 123.09it/s]\n",
      "100%|██████████| 616/616 [00:05<00:00, 112.41it/s]\n",
      "100%|██████████| 11/11 [01:01<00:00,  5.59s/it]\n"
     ]
    }
   ],
   "source": [
    "X, y = get_data(train_path)"
   ]
  },
  {
   "cell_type": "code",
   "execution_count": 18,
   "metadata": {},
   "outputs": [],
   "source": [
    "from sklearn.model_selection import train_test_split\n",
    "\n",
    "X_train, X_test, y_train, y_test = train_test_split(X, y, test_size=0.3, random_state=42)"
   ]
  },
  {
   "cell_type": "code",
   "execution_count": 19,
   "metadata": {},
   "outputs": [
    {
     "name": "stdout",
     "output_type": "stream",
     "text": [
      "4736 2030\n"
     ]
    }
   ],
   "source": [
    "print(len(X_train), len(X_test))"
   ]
  },
  {
   "cell_type": "code",
   "execution_count": 20,
   "metadata": {},
   "outputs": [],
   "source": [
    "import pickle\n",
    "\n",
    "pickle.dump(X_train, open('../dataset/processed-data/X_train.pkl', 'wb'))\n",
    "pickle.dump(y_train, open('../dataset/processed-data/y_train.pkl', 'wb'))\n",
    "\n",
    "pickle.dump(X_test, open('../dataset/processed-data/X_test.pkl', 'wb'))\n",
    "pickle.dump(y_test, open('../dataset/processed-data/y_test.pkl', 'wb'))"
   ]
  }
 ],
 "metadata": {
  "kernelspec": {
   "display_name": "VNC",
   "language": "python",
   "name": "python3"
  },
  "language_info": {
   "codemirror_mode": {
    "name": "ipython",
    "version": 3
   },
   "file_extension": ".py",
   "mimetype": "text/x-python",
   "name": "python",
   "nbconvert_exporter": "python",
   "pygments_lexer": "ipython3",
   "version": "3.9.18"
  }
 },
 "nbformat": 4,
 "nbformat_minor": 2
}
